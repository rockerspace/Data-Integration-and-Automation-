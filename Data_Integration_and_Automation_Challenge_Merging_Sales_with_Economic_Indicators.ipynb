{
  "nbformat": 4,
  "nbformat_minor": 0,
  "metadata": {
    "colab": {
      "provenance": []
    },
    "kernelspec": {
      "name": "python3",
      "display_name": "Python 3"
    },
    "language_info": {
      "name": "python"
    }
  },
  "cells": [
    {
      "cell_type": "code",
      "source": [
        "!pip install fredapi\n",
        "\n",
        "from fredapi import Fred\n",
        "\n",
        "API_KEY = \"2bef5770d514f4bcd9c45a8686583e74\"\n",
        "fred = Fred(api_key=API_KEY)"
      ],
      "metadata": {
        "colab": {
          "base_uri": "https://localhost:8080/"
        },
        "id": "WMqDFy7LOKHe",
        "outputId": "059a0718-aae0-4f88-961e-7e3e4b43d8cd"
      },
      "execution_count": 1,
      "outputs": [
        {
          "output_type": "stream",
          "name": "stdout",
          "text": [
            "Collecting fredapi\n",
            "  Downloading fredapi-0.5.2-py3-none-any.whl.metadata (5.0 kB)\n",
            "Requirement already satisfied: pandas in /usr/local/lib/python3.11/dist-packages (from fredapi) (2.2.2)\n",
            "Requirement already satisfied: numpy>=1.23.2 in /usr/local/lib/python3.11/dist-packages (from pandas->fredapi) (1.26.4)\n",
            "Requirement already satisfied: python-dateutil>=2.8.2 in /usr/local/lib/python3.11/dist-packages (from pandas->fredapi) (2.8.2)\n",
            "Requirement already satisfied: pytz>=2020.1 in /usr/local/lib/python3.11/dist-packages (from pandas->fredapi) (2025.1)\n",
            "Requirement already satisfied: tzdata>=2022.7 in /usr/local/lib/python3.11/dist-packages (from pandas->fredapi) (2025.1)\n",
            "Requirement already satisfied: six>=1.5 in /usr/local/lib/python3.11/dist-packages (from python-dateutil>=2.8.2->pandas->fredapi) (1.17.0)\n",
            "Downloading fredapi-0.5.2-py3-none-any.whl (11 kB)\n",
            "Installing collected packages: fredapi\n",
            "Successfully installed fredapi-0.5.2\n"
          ]
        }
      ]
    },
    {
      "cell_type": "code",
      "execution_count": 2,
      "metadata": {
        "id": "ncDISpG3OGeL"
      },
      "outputs": [],
      "source": [
        "from fredapi import Fred\n",
        "\n",
        "API_KEY = \"2bef5770d514f4bcd9c45a8686583e74\"\n",
        "fred = Fred(api_key=API_KEY)"
      ]
    },
    {
      "cell_type": "code",
      "source": [
        "from fredapi import Fred\n",
        "import pandas as pd\n",
        "import numpy as np\n",
        "\n",
        "# Initialize FRED API\n",
        "API_KEY = \"2bef5770d514f4bcd9c45a8686583e74\"\n",
        "fred = Fred(api_key=API_KEY)\n",
        "\n",
        "# Fetch weekly gas prices (GASREGW)\n",
        "gas_prices = fred.get_series(\"GASREGW\", observation_start=\"2024-01-01\")\n",
        "\n",
        "# Fetch monthly CPI data (CPIAUCSL)\n",
        "cpi_data = fred.get_series(\"CPIAUCSL\", observation_start=\"2024-01-01\")\n",
        "\n",
        "# Convert CPI to weekly by forward-filling\n",
        "cpi_weekly = cpi_data.resample(\"W\").ffill()\n",
        "\n",
        "# Convert gas prices to a DataFrame\n",
        "gas_prices_df = pd.DataFrame(gas_prices, columns=[\"Gas Price ($)\"])\n",
        "gas_prices_df.index.name = \"Week Start Date\"\n",
        "gas_prices_df.reset_index(inplace=True)\n",
        "gas_prices_df[\"Week Start Date\"] = gas_prices_df[\"Week Start Date\"].astype(str)\n",
        "\n",
        "# Convert CPI data to a DataFrame\n",
        "cpi_df = pd.DataFrame(cpi_weekly, columns=[\"CPI\"])\n",
        "cpi_df.index.name = \"Week Start Date\"\n",
        "cpi_df.reset_index(inplace=True)\n",
        "cpi_df[\"Week Start Date\"] = cpi_df[\"Week Start Date\"].astype(str)\n",
        "\n",
        "# Load furniture sales dataset\n",
        "sales_df = pd.read_csv(\"/content/weekly_furniture_sales_data.csv\")\n",
        "\n",
        "# Merge sales data with FRED data\n",
        "merged_df = sales_df.merge(gas_prices_df, on=\"Week Start Date\", how=\"left\")\n",
        "merged_df = merged_df.merge(cpi_df, on=\"Week Start Date\", how=\"left\")\n",
        "\n",
        "# Save the final dataset\n",
        "merged_df.to_csv(\"weekly_furniture_sales_with_economic_data.csv\", index=False)\n",
        "\n",
        "print(\"Merged dataset saved as 'weekly_furniture_sales_with_economic_data.csv'\")\n"
      ],
      "metadata": {
        "colab": {
          "base_uri": "https://localhost:8080/"
        },
        "id": "2l3Rau77OkH0",
        "outputId": "c89910d7-6756-451e-d04a-96117a9cbfbf"
      },
      "execution_count": 3,
      "outputs": [
        {
          "output_type": "stream",
          "name": "stdout",
          "text": [
            "Merged dataset saved as 'weekly_furniture_sales_with_economic_data.csv'\n"
          ]
        }
      ]
    },
    {
      "cell_type": "code",
      "source": [
        "import pandas as pd\n",
        "import numpy as np\n",
        "from datetime import datetime, timedelta\n",
        "from fredapi import Fred\n",
        "import os\n",
        "from email.mime.text import MIMEText\n",
        "\n",
        "# Initialize FRED API\n",
        "API_KEY = \"2bef5770d514f4bcd9c45a8686583e74\"\n",
        "fred = Fred(api_key=API_KEY)\n",
        "\n",
        "# Define function to generate simulated sales data\n",
        "def generate_sales_data(start_date, weeks=4):\n",
        "    \"\"\"Generate synthetic sales data for the given weeks.\"\"\"\n",
        "    product_ids = range(1, 51)\n",
        "    furniture_products = [\n",
        "        \"Sofa\", \"Dining Table\", \"Chair\", \"Bed Frame\", \"Nightstand\", \"Bookshelf\", \"TV Stand\", \"Coffee Table\",\n",
        "        \"Recliner\", \"Dresser\", \"Wardrobe\", \"Office Desk\", \"Computer Chair\", \"Futon\", \"End Table\", \"Bar Stool\",\n",
        "        \"Patio Set\", \"Sideboard\", \"Loveseat\", \"Chaise Lounge\", \"Sectional Sofa\", \"File Cabinet\", \"Console Table\",\n",
        "        \"Bench\", \"Hutch\", \"Buffet\", \"Storage Ottoman\", \"Accent Chair\", \"Bunk Bed\", \"Mattress\", \"Headboard\",\n",
        "        \"Room Divider\", \"Floating Shelves\", \"Kitchen Island\", \"Rolling Cart\", \"Foldable Table\", \"Standing Desk\",\n",
        "        \"Ladder Shelf\", \"Bookcase\", \"Vanity Table\", \"Makeup Chair\", \"Chest of Drawers\", \"Entryway Table\",\n",
        "        \"Hall Tree\", \"Gaming Chair\", \"Bean Bag\", \"Murphy Bed\", \"Plant Stand\", \"Shoe Rack\", \"Coat Rack\"\n",
        "    ]\n",
        "\n",
        "    sales_data = []\n",
        "    for i in range(weeks):\n",
        "        week_start = start_date + timedelta(weeks=i)\n",
        "        for product_id, product_name in zip(product_ids, furniture_products):\n",
        "            price = np.round(np.random.uniform(50, 2000), 2)\n",
        "            discount = np.random.choice([0, np.round(np.random.uniform(5, 30), 2)], p=[0.7, 0.3])\n",
        "            units_sold = np.random.randint(5, 50)\n",
        "            revenue = units_sold * price * (1 - discount / 100)\n",
        "\n",
        "            sales_data.append([\n",
        "                week_start.strftime(\"%Y-%m-%d\"), product_id, product_name, units_sold, price, discount, round(revenue, 2), \"USA\"\n",
        "            ])\n",
        "\n",
        "    return pd.DataFrame(sales_data, columns=[\"Week Start Date\", \"Product ID\", \"Product Name\", \"Units Sold\", \"Price ($)\", \"Discount Percentage\", \"Revenue ($)\", \"Region\"])\n",
        "\n",
        "# Fetch FRED data\n",
        "def fetch_fred_data():\n",
        "    \"\"\"Fetch latest economic data from FRED.\"\"\"\n",
        "    gas_prices = fred.get_series(\"GASREGW\", observation_start=\"2024-01-01\")\n",
        "    cpi_data = fred.get_series(\"CPIAUCSL\", observation_start=\"2024-01-01\")\n",
        "\n",
        "    gas_prices_df = pd.DataFrame(gas_prices, columns=[\"Gas Price ($)\"]).reset_index()\n",
        "    gas_prices_df.columns = [\"Week Start Date\", \"Gas Price ($)\"]\n",
        "    gas_prices_df[\"Week Start Date\"] = gas_prices_df[\"Week Start Date\"].astype(str)\n",
        "\n",
        "    cpi_weekly = cpi_data.resample(\"W\").ffill().reset_index()\n",
        "    cpi_weekly.columns = [\"Week Start Date\", \"CPI\"]\n",
        "    cpi_weekly[\"Week Start Date\"] = cpi_weekly[\"Week Start Date\"].astype(str)\n",
        "\n",
        "    return gas_prices_df, cpi_weekly\n",
        "\n",
        "# Main automation function\n",
        "def update_data():\n",
        "    \"\"\"Automate sales and economic data updates.\"\"\"\n",
        "    today = datetime.today()\n",
        "    start_date = today - timedelta(days=today.weekday())  # Start from the last Monday\n",
        "\n",
        "    # Generate new sales data\n",
        "    new_sales_data = generate_sales_data(start_date)\n",
        "\n",
        "    # Fetch latest FRED data\n",
        "    gas_prices_df, cpi_df = fetch_fred_data()\n",
        "\n",
        "    # Merge datasets\n",
        "    merged_df = new_sales_data.merge(gas_prices_df, on=\"Week Start Date\", how=\"left\")\n",
        "    merged_df = merged_df.merge(cpi_df, on=\"Week Start Date\", how=\"left\")\n",
        "\n",
        "    # Save dataset\n",
        "    file_path = \"weekly_furniture_sales_with_economic_data.csv\"\n",
        "    if os.path.exists(file_path):\n",
        "        merged_df.to_csv(file_path, mode='a', header=False, index=False)  # Append data\n",
        "    else:\n",
        "        merged_df.to_csv(file_path, index=False)  # Create new file\n",
        "\n",
        "    print(f\"Data updated and saved to {file_path}\")\n",
        "\n",
        "# Run the update\n",
        "update_data()\n"
      ],
      "metadata": {
        "colab": {
          "base_uri": "https://localhost:8080/"
        },
        "id": "PEDpwD1OQ1Q6",
        "outputId": "2f963597-2b61-4a76-9d1d-0e49a1e1ed20"
      },
      "execution_count": 4,
      "outputs": [
        {
          "output_type": "stream",
          "name": "stdout",
          "text": [
            "Data updated and saved to weekly_furniture_sales_with_economic_data.csv\n"
          ]
        }
      ]
    },
    {
      "cell_type": "code",
      "source": [
        "import smtplib\n",
        "import socket\n",
        "import logging\n",
        "from email.mime.text import MIMEText\n",
        "socket.gethostbyname(\"smtp.gmail.com\")\n",
        "\n",
        "# Data integrity checks\n",
        "def check_data_integrity(df):\n",
        "    \"\"\"Check for missing values, anomalies, and alignment issues.\"\"\"\n",
        "    issues = []\n",
        "\n",
        "    # Check for missing values\n",
        "    if df.isnull().sum().sum() > 0:\n",
        "        issues.append(\"Missing values detected in the dataset.\")\n",
        "\n",
        "    # Detect anomalies in sales trends\n",
        "    if (df['Units Sold'] > df['Units Sold'].mean() * 3).any():\n",
        "        issues.append(\"Unusual spikes detected in sales data.\")\n",
        "    if (df['Units Sold'] < df['Units Sold'].mean() / 3).any():\n",
        "        issues.append(\"Unusual drops detected in sales data.\")\n",
        "\n",
        "    # Check for missing product entries\n",
        "    missing_products = set(range(1, 51)) - set(df['Product ID'].unique())\n",
        "    if missing_products:\n",
        "        issues.append(f\"Missing products detected: {missing_products}\")\n",
        "\n",
        "    return issues\n",
        "\n",
        "# Alert system\n",
        "# Your credentials (Replace with your actual details)\n",
        "EMAIL_ADDRESS = \"narendrav64@gmail.com\"\n",
        "EMAIL_PASSWORD = \"inalekvzhgcytmqs\"  # Use the generated App Password\n",
        "\n",
        "# Email message\n",
        "msg = MIMEText(\"Test email body\")\n",
        "msg['Subject'] = \"Test Subject\"\n",
        "msg['From'] = EMAIL_ADDRESS\n",
        "msg['To'] = \"narendrav64@gmail.com\"\n",
        "\n",
        "try:\n",
        "    # Connect to Gmail SMTP server with TLS\n",
        "    server = smtplib.SMTP(\"smtp.gmail.com\", 587)\n",
        "    server.starttls()  # Upgrade connection to secure encrypted SSL/TLS\n",
        "    server.login(EMAIL_ADDRESS, EMAIL_PASSWORD)  # Authenticate\n",
        "    server.sendmail(msg['From'], [msg['To']], msg.as_string())  # Send email\n",
        "    server.quit()\n",
        "    print(\"✅ Email sent successfully!\")\n",
        "except smtplib.SMTPAuthenticationError:\n",
        "    print(\"❌ Authentication failed! Check email/password settings.\")\n",
        "except Exception as e:\n",
        "    print(f\"❌ An error occurred: {e}\")\n",
        "\n",
        "\n",
        "# Main automation function\n",
        "def update_data():\n",
        "    \"\"\"Automate sales and economic data updates.\"\"\"\n",
        "    today = datetime.today()\n",
        "    start_date = today - timedelta(days=today.weekday())  # Start from the last Monday\n",
        "\n",
        "    # Generate new sales data\n",
        "    new_sales_data = generate_sales_data(start_date)\n",
        "\n",
        "    # Fetch latest FRED data\n",
        "    gas_prices_df, cpi_df = fetch_fred_data()\n",
        "\n",
        "    # Merge datasets\n",
        "    merged_df = new_sales_data.merge(gas_prices_df, on=\"Week Start Date\", how=\"left\")\n",
        "    merged_df = merged_df.merge(cpi_df, on=\"Week Start Date\", how=\"left\")\n",
        "\n",
        "    # Perform data integrity checks\n",
        "    issues = check_data_integrity(merged_df)\n",
        "    def send_alert(issues):\n",
        "     if issues:  # This line is correctly indented\n",
        "        print(\"Data integrity issues detected:\", issues)  # Proper indentation inside if-statement\n",
        "     else:\n",
        "        print(\"No issues found.\")  # Another indented block\n",
        "\n",
        "\n",
        "    # Save dataset\n",
        "    file_path = \"weekly_furniture_sales_with_economic_data.csv\"\n",
        "    if os.path.exists(file_path):\n",
        "        merged_df.to_csv(file_path, mode='a', header=False, index=False)  # Append data\n",
        "    else:\n",
        "        merged_df.to_csv(file_path, index=False)  # Create new file\n",
        "\n",
        "    print(f\"Data updated and saved to {file_path}\")\n",
        "\n",
        "# Run the update\n",
        "update_data()\n"
      ],
      "metadata": {
        "colab": {
          "base_uri": "https://localhost:8080/"
        },
        "id": "pVvOWK3lRbIn",
        "outputId": "be407baf-4897-40ce-8a21-27b3cfda3520"
      },
      "execution_count": 7,
      "outputs": [
        {
          "output_type": "stream",
          "name": "stdout",
          "text": [
            "✅ Email sent successfully!\n",
            "Data updated and saved to weekly_furniture_sales_with_economic_data.csv\n"
          ]
        }
      ]
    },
    {
      "cell_type": "code",
      "source": [
        "\n"
      ],
      "metadata": {
        "id": "A_khJKiET6dL"
      },
      "execution_count": null,
      "outputs": []
    }
  ]
}